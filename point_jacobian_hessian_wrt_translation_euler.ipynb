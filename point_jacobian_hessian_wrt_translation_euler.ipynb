{
 "cells": [
  {
   "cell_type": "code",
   "execution_count": 1,
   "id": "8b401dbc-11c1-40c3-98bc-30aa9d34114f",
   "metadata": {},
   "outputs": [],
   "source": [
    "import sympy as sp\n",
    "from sympy.interactive import printing\n",
    "printing.init_printing(use_latex=True)"
   ]
  },
  {
   "cell_type": "code",
   "execution_count": 5,
   "id": "229d389b-7357-4c4a-a8bd-f19b9e30b95d",
   "metadata": {},
   "outputs": [
    {
     "name": "stdout",
     "output_type": "stream",
     "text": [
      "t: (3, 1)\n"
     ]
    },
    {
     "data": {
      "text/latex": [
       "$\\displaystyle \\left[\\begin{matrix}tx\\\\ty\\\\tz\\end{matrix}\\right]$"
      ],
      "text/plain": [
       "⎡tx⎤\n",
       "⎢  ⎥\n",
       "⎢ty⎥\n",
       "⎢  ⎥\n",
       "⎣tz⎦"
      ]
     },
     "execution_count": 5,
     "metadata": {},
     "output_type": "execute_result"
    }
   ],
   "source": [
    "tx = sp.symbols('tx')\n",
    "ty = sp.symbols('ty')\n",
    "tz = sp.symbols('tz')\n",
    "t = sp.Matrix([tx, ty, tz])\n",
    "print(\"t:\", t.shape)\n",
    "t"
   ]
  },
  {
   "cell_type": "code",
   "execution_count": 6,
   "id": "f51aa74f-db6c-41a9-af20-eb81f5ab86e4",
   "metadata": {},
   "outputs": [
    {
     "name": "stdout",
     "output_type": "stream",
     "text": [
      "p:  (6, 1)\n"
     ]
    },
    {
     "data": {
      "text/latex": [
       "$\\displaystyle \\left[\\begin{matrix}tx\\\\ty\\\\tz\\\\ex\\\\ey\\\\ez\\end{matrix}\\right]$"
      ],
      "text/plain": [
       "⎡tx⎤\n",
       "⎢  ⎥\n",
       "⎢ty⎥\n",
       "⎢  ⎥\n",
       "⎢tz⎥\n",
       "⎢  ⎥\n",
       "⎢ex⎥\n",
       "⎢  ⎥\n",
       "⎢ey⎥\n",
       "⎢  ⎥\n",
       "⎣ez⎦"
      ]
     },
     "execution_count": 6,
     "metadata": {},
     "output_type": "execute_result"
    }
   ],
   "source": [
    "ex = sp.symbols('ex')  # euler x\n",
    "ey = sp.symbols('ey')  # euler y\n",
    "ez = sp.symbols('ez')  # euler z\n",
    "\n",
    "p = sp.Matrix([tx, ty, tz, ex, ey, ez])  # 6x1\n",
    "print(\"p: \", p.shape)\n",
    "p"
   ]
  },
  {
   "cell_type": "code",
   "execution_count": 7,
   "id": "f3dbbf92-70b7-4a91-a6d2-ef99d4677b07",
   "metadata": {},
   "outputs": [
    {
     "name": "stdout",
     "output_type": "stream",
     "text": [
      "x:  (3, 1)\n"
     ]
    },
    {
     "data": {
      "text/latex": [
       "$\\displaystyle \\left[\\begin{matrix}x_{1}\\\\x_{2}\\\\x_{3}\\end{matrix}\\right]$"
      ],
      "text/plain": [
       "⎡x₁⎤\n",
       "⎢  ⎥\n",
       "⎢x₂⎥\n",
       "⎢  ⎥\n",
       "⎣x₃⎦"
      ]
     },
     "execution_count": 7,
     "metadata": {},
     "output_type": "execute_result"
    }
   ],
   "source": [
    "x1 = sp.symbols('x1')\n",
    "x2 = sp.symbols('x2')\n",
    "x3 = sp.symbols('x3')\n",
    "x = sp.Matrix([x1, x2, x3])\n",
    "print(\"x: \", x.shape)\n",
    "x"
   ]
  },
  {
   "cell_type": "code",
   "execution_count": 8,
   "id": "37c742f5-31ec-43d2-8915-06d08bf70526",
   "metadata": {},
   "outputs": [],
   "source": [
    "\n",
    "cx = sp.cos(ex)\n",
    "sx = sp.sin(ex)\n",
    "cy = sp.cos(ey)\n",
    "sy = sp.sin(ey)\n",
    "cz = sp.cos(ez)\n",
    "sz = sp.sin(ez)\n",
    "\n",
    "def simplify_sincos(func, latex=False):\n",
    "    if latex:\n",
    "        return func.xreplace({\n",
    "            sp.sin(ex): sp.symbols(\"s_x\"),\n",
    "            sp.cos(ex): sp.symbols(\"c_x\"),\n",
    "            sp.sin(ey): sp.symbols(\"s_y\"),\n",
    "            sp.cos(ey): sp.symbols(\"c_y\"),\n",
    "            sp.sin(ez): sp.symbols(\"s_z\"),\n",
    "            sp.cos(ez): sp.symbols(\"c_z\"),\n",
    "            tx: sp.symbols(\"t_x\"),\n",
    "            ty: sp.symbols(\"t_y\"),\n",
    "            tz: sp.symbols(\"t_z\"),\n",
    "        })\n",
    "    else:\n",
    "        return func.xreplace({\n",
    "            sp.sin(ex): sp.symbols(\"sx\"),\n",
    "            sp.cos(ex): sp.symbols(\"cx\"),\n",
    "            sp.sin(ey): sp.symbols(\"sy\"),\n",
    "            sp.cos(ey): sp.symbols(\"cy\"),\n",
    "            sp.sin(ez): sp.symbols(\"sz\"),\n",
    "            sp.cos(ez): sp.symbols(\"cz\"),\n",
    "        })"
   ]
  },
  {
   "cell_type": "code",
   "execution_count": 9,
   "id": "f90e383e-d009-4810-8366-1ee687fdacf8",
   "metadata": {},
   "outputs": [
    {
     "data": {
      "text/latex": [
       "$\\displaystyle \\left[\\begin{matrix}x_{1}\\\\x_{2}\\\\x_{3}\\end{matrix}\\right]$"
      ],
      "text/plain": [
       "⎡x₁⎤\n",
       "⎢  ⎥\n",
       "⎢x₂⎥\n",
       "⎢  ⎥\n",
       "⎣x₃⎦"
      ]
     },
     "execution_count": 9,
     "metadata": {},
     "output_type": "execute_result"
    }
   ],
   "source": [
    "simplify_sincos(x, latex=True)"
   ]
  },
  {
   "cell_type": "code",
   "execution_count": 10,
   "id": "53543eee-a887-4f18-8dda-baa99681a59c",
   "metadata": {},
   "outputs": [
    {
     "data": {
      "text/latex": [
       "$\\displaystyle \\left[\\begin{matrix}t_{x}\\\\t_{y}\\\\t_{z}\\\\ex\\\\ey\\\\ez\\end{matrix}\\right]$"
      ],
      "text/plain": [
       "⎡tₓ ⎤\n",
       "⎢   ⎥\n",
       "⎢t_y⎥\n",
       "⎢   ⎥\n",
       "⎢t_z⎥\n",
       "⎢   ⎥\n",
       "⎢ex ⎥\n",
       "⎢   ⎥\n",
       "⎢ey ⎥\n",
       "⎢   ⎥\n",
       "⎣ez ⎦"
      ]
     },
     "execution_count": 10,
     "metadata": {},
     "output_type": "execute_result"
    }
   ],
   "source": [
    "simplify_sincos(p, latex=True)"
   ]
  },
  {
   "cell_type": "code",
   "execution_count": 11,
   "id": "d8f6a5c3-fe9a-4ef5-93ad-4b433661f6aa",
   "metadata": {},
   "outputs": [
    {
     "data": {
      "text/latex": [
       "$\\displaystyle \\left[\\begin{matrix}t_{x}\\\\t_{y}\\\\t_{z}\\end{matrix}\\right]$"
      ],
      "text/plain": [
       "⎡tₓ ⎤\n",
       "⎢   ⎥\n",
       "⎢t_y⎥\n",
       "⎢   ⎥\n",
       "⎣t_z⎦"
      ]
     },
     "execution_count": 11,
     "metadata": {},
     "output_type": "execute_result"
    }
   ],
   "source": [
    "simplify_sincos(t, latex=True)"
   ]
  },
  {
   "cell_type": "code",
   "execution_count": 12,
   "id": "673185f9-9206-4eaf-9925-f6498d892687",
   "metadata": {},
   "outputs": [
    {
     "name": "stdout",
     "output_type": "stream",
     "text": [
      "R: (3, 3)\n"
     ]
    },
    {
     "data": {
      "text/latex": [
       "$\\displaystyle \\left[\\begin{matrix}\\cos{\\left(ey \\right)} \\cos{\\left(ez \\right)} & - \\sin{\\left(ez \\right)} \\cos{\\left(ey \\right)} & \\sin{\\left(ey \\right)}\\\\\\sin{\\left(ex \\right)} \\sin{\\left(ey \\right)} \\cos{\\left(ez \\right)} + \\sin{\\left(ez \\right)} \\cos{\\left(ex \\right)} & - \\sin{\\left(ex \\right)} \\sin{\\left(ey \\right)} \\sin{\\left(ez \\right)} + \\cos{\\left(ex \\right)} \\cos{\\left(ez \\right)} & - \\sin{\\left(ex \\right)} \\cos{\\left(ey \\right)}\\\\\\sin{\\left(ex \\right)} \\sin{\\left(ez \\right)} - \\sin{\\left(ey \\right)} \\cos{\\left(ex \\right)} \\cos{\\left(ez \\right)} & \\sin{\\left(ex \\right)} \\cos{\\left(ez \\right)} + \\sin{\\left(ey \\right)} \\sin{\\left(ez \\right)} \\cos{\\left(ex \\right)} & \\cos{\\left(ex \\right)} \\cos{\\left(ey \\right)}\\end{matrix}\\right]$"
      ],
      "text/plain": [
       "⎡             cos(ey)⋅cos(ez)                            -sin(ez)⋅cos(ey)                   sin(ey)     ⎤\n",
       "⎢                                                                                                       ⎥\n",
       "⎢sin(ex)⋅sin(ey)⋅cos(ez) + sin(ez)⋅cos(ex)  -sin(ex)⋅sin(ey)⋅sin(ez) + cos(ex)⋅cos(ez)  -sin(ex)⋅cos(ey)⎥\n",
       "⎢                                                                                                       ⎥\n",
       "⎣sin(ex)⋅sin(ez) - sin(ey)⋅cos(ex)⋅cos(ez)  sin(ex)⋅cos(ez) + sin(ey)⋅sin(ez)⋅cos(ex)   cos(ex)⋅cos(ey) ⎦"
      ]
     },
     "execution_count": 12,
     "metadata": {},
     "output_type": "execute_result"
    }
   ],
   "source": [
    "R = sp.Matrix([\n",
    "    [cy * cz,          - cy * sz,           sy],\n",
    "    [cx*sz + sx*sy*cz, cx*cz - sx*sy*sz,   -sx*cy],\n",
    "    [sx*sz - cx*sy*cz, cx*sy*sz + sx * cz,  cx*cy]])\n",
    "# print(\"R:\\n\", sp.latex(R))\n",
    "R_simple = simplify_sincos(R)\n",
    "print(\"R:\", R.shape)\n",
    "R"
   ]
  },
  {
   "cell_type": "code",
   "execution_count": 14,
   "id": "17979e22-9f78-402c-a300-3be07a0ad738",
   "metadata": {},
   "outputs": [
    {
     "data": {
      "text/latex": [
       "$\\displaystyle \\left[\\begin{matrix}c_{y} c_{z} & - c_{y} s_{z} & s_{y}\\\\c_{x} s_{z} + c_{z} s_{x} s_{y} & c_{x} c_{z} - s_{x} s_{y} s_{z} & - c_{y} s_{x}\\\\- c_{x} c_{z} s_{y} + s_{x} s_{z} & c_{x} s_{y} s_{z} + c_{z} s_{x} & c_{x} c_{y}\\end{matrix}\\right]$"
      ],
      "text/plain": [
       "⎡      c_y⋅c_z              -c_y⋅s_z          s_y  ⎤\n",
       "⎢                                                  ⎥\n",
       "⎢cₓ⋅s_z + c_z⋅sₓ⋅s_y   cₓ⋅c_z - sₓ⋅s_y⋅s_z  -c_y⋅sₓ⎥\n",
       "⎢                                                  ⎥\n",
       "⎣-cₓ⋅c_z⋅s_y + sₓ⋅s_z  cₓ⋅s_y⋅s_z + c_z⋅sₓ  cₓ⋅c_y ⎦"
      ]
     },
     "execution_count": 14,
     "metadata": {},
     "output_type": "execute_result"
    }
   ],
   "source": [
    "simplify_sincos(R, latex=True)"
   ]
  },
  {
   "cell_type": "code",
   "execution_count": 15,
   "id": "d046d5bc-a9e4-40f8-9c26-682c544d791d",
   "metadata": {},
   "outputs": [
    {
     "name": "stdout",
     "output_type": "stream",
     "text": [
      "T(p, x):  (3, 1)\n"
     ]
    },
    {
     "data": {
      "text/latex": [
       "$\\displaystyle \\left[\\begin{matrix}tx + x_{1} \\cos{\\left(ey \\right)} \\cos{\\left(ez \\right)} - x_{2} \\sin{\\left(ez \\right)} \\cos{\\left(ey \\right)} + x_{3} \\sin{\\left(ey \\right)}\\\\ty + x_{1} \\left(\\sin{\\left(ex \\right)} \\sin{\\left(ey \\right)} \\cos{\\left(ez \\right)} + \\sin{\\left(ez \\right)} \\cos{\\left(ex \\right)}\\right) + x_{2} \\left(- \\sin{\\left(ex \\right)} \\sin{\\left(ey \\right)} \\sin{\\left(ez \\right)} + \\cos{\\left(ex \\right)} \\cos{\\left(ez \\right)}\\right) - x_{3} \\sin{\\left(ex \\right)} \\cos{\\left(ey \\right)}\\\\tz + x_{1} \\left(\\sin{\\left(ex \\right)} \\sin{\\left(ez \\right)} - \\sin{\\left(ey \\right)} \\cos{\\left(ex \\right)} \\cos{\\left(ez \\right)}\\right) + x_{2} \\left(\\sin{\\left(ex \\right)} \\cos{\\left(ez \\right)} + \\sin{\\left(ey \\right)} \\sin{\\left(ez \\right)} \\cos{\\left(ex \\right)}\\right) + x_{3} \\cos{\\left(ex \\right)} \\cos{\\left(ey \\right)}\\end{matrix}\\right]$"
      ],
      "text/plain": [
       "⎡                                tx + x₁⋅cos(ey)⋅cos(ez) - x₂⋅sin(ez)⋅cos(ey) + x₃⋅sin(ey)                                 ⎤\n",
       "⎢                                                                                                                          ⎥\n",
       "⎢ty + x₁⋅(sin(ex)⋅sin(ey)⋅cos(ez) + sin(ez)⋅cos(ex)) + x₂⋅(-sin(ex)⋅sin(ey)⋅sin(ez) + cos(ex)⋅cos(ez)) - x₃⋅sin(ex)⋅cos(ey)⎥\n",
       "⎢                                                                                                                          ⎥\n",
       "⎣tz + x₁⋅(sin(ex)⋅sin(ez) - sin(ey)⋅cos(ex)⋅cos(ez)) + x₂⋅(sin(ex)⋅cos(ez) + sin(ey)⋅sin(ez)⋅cos(ex)) + x₃⋅cos(ex)⋅cos(ey) ⎦"
      ]
     },
     "execution_count": 15,
     "metadata": {},
     "output_type": "execute_result"
    }
   ],
   "source": [
    "Tpx = R.multiply(x) + t\n",
    "print(\"T(p, x): \", Tpx.shape)\n",
    "Tpx"
   ]
  },
  {
   "cell_type": "code",
   "execution_count": 16,
   "id": "ef27f627-245f-4f53-b7de-4c7c759aca63",
   "metadata": {},
   "outputs": [
    {
     "data": {
      "text/latex": [
       "$\\displaystyle \\left[\\begin{matrix}c_{y} c_{z} x_{1} - c_{y} s_{z} x_{2} + s_{y} x_{3} + t_{x}\\\\- c_{y} s_{x} x_{3} + t_{y} + x_{1} \\left(c_{x} s_{z} + c_{z} s_{x} s_{y}\\right) + x_{2} \\left(c_{x} c_{z} - s_{x} s_{y} s_{z}\\right)\\\\c_{x} c_{y} x_{3} + t_{z} + x_{1} \\left(- c_{x} c_{z} s_{y} + s_{x} s_{z}\\right) + x_{2} \\left(c_{x} s_{y} s_{z} + c_{z} s_{x}\\right)\\end{matrix}\\right]$"
      ],
      "text/plain": [
       "⎡                c_y⋅c_z⋅x₁ - c_y⋅s_z⋅x₂ + s_y⋅x₃ + tₓ                 ⎤\n",
       "⎢                                                                      ⎥\n",
       "⎢-c_y⋅sₓ⋅x₃ + t_y + x₁⋅(cₓ⋅s_z + c_z⋅sₓ⋅s_y) + x₂⋅(cₓ⋅c_z - sₓ⋅s_y⋅s_z)⎥\n",
       "⎢                                                                      ⎥\n",
       "⎣cₓ⋅c_y⋅x₃ + t_z + x₁⋅(-cₓ⋅c_z⋅s_y + sₓ⋅s_z) + x₂⋅(cₓ⋅s_y⋅s_z + c_z⋅sₓ)⎦"
      ]
     },
     "execution_count": 16,
     "metadata": {},
     "output_type": "execute_result"
    }
   ],
   "source": [
    "simplify_sincos(Tpx, latex=True)"
   ]
  },
  {
   "cell_type": "code",
   "execution_count": 17,
   "id": "a37770e0-8894-4108-b84e-f07bf8bcda38",
   "metadata": {},
   "outputs": [
    {
     "name": "stdout",
     "output_type": "stream",
     "text": [
      "Jacobian:  (3, 6)\n"
     ]
    },
    {
     "data": {
      "text/latex": [
       "$\\displaystyle \\left[\\begin{matrix}1 & 0 & 0 & 0 & - x_{1} \\sin{\\left(ey \\right)} \\cos{\\left(ez \\right)} + x_{2} \\sin{\\left(ey \\right)} \\sin{\\left(ez \\right)} + x_{3} \\cos{\\left(ey \\right)} & - x_{1} \\sin{\\left(ez \\right)} \\cos{\\left(ey \\right)} - x_{2} \\cos{\\left(ey \\right)} \\cos{\\left(ez \\right)}\\\\0 & 1 & 0 & x_{1} \\left(- \\sin{\\left(ex \\right)} \\sin{\\left(ez \\right)} + \\sin{\\left(ey \\right)} \\cos{\\left(ex \\right)} \\cos{\\left(ez \\right)}\\right) + x_{2} \\left(- \\sin{\\left(ex \\right)} \\cos{\\left(ez \\right)} - \\sin{\\left(ey \\right)} \\sin{\\left(ez \\right)} \\cos{\\left(ex \\right)}\\right) - x_{3} \\cos{\\left(ex \\right)} \\cos{\\left(ey \\right)} & x_{1} \\sin{\\left(ex \\right)} \\cos{\\left(ey \\right)} \\cos{\\left(ez \\right)} - x_{2} \\sin{\\left(ex \\right)} \\sin{\\left(ez \\right)} \\cos{\\left(ey \\right)} + x_{3} \\sin{\\left(ex \\right)} \\sin{\\left(ey \\right)} & x_{1} \\left(- \\sin{\\left(ex \\right)} \\sin{\\left(ey \\right)} \\sin{\\left(ez \\right)} + \\cos{\\left(ex \\right)} \\cos{\\left(ez \\right)}\\right) + x_{2} \\left(- \\sin{\\left(ex \\right)} \\sin{\\left(ey \\right)} \\cos{\\left(ez \\right)} - \\sin{\\left(ez \\right)} \\cos{\\left(ex \\right)}\\right)\\\\0 & 0 & 1 & x_{1} \\left(\\sin{\\left(ex \\right)} \\sin{\\left(ey \\right)} \\cos{\\left(ez \\right)} + \\sin{\\left(ez \\right)} \\cos{\\left(ex \\right)}\\right) + x_{2} \\left(- \\sin{\\left(ex \\right)} \\sin{\\left(ey \\right)} \\sin{\\left(ez \\right)} + \\cos{\\left(ex \\right)} \\cos{\\left(ez \\right)}\\right) - x_{3} \\sin{\\left(ex \\right)} \\cos{\\left(ey \\right)} & - x_{1} \\cos{\\left(ex \\right)} \\cos{\\left(ey \\right)} \\cos{\\left(ez \\right)} + x_{2} \\sin{\\left(ez \\right)} \\cos{\\left(ex \\right)} \\cos{\\left(ey \\right)} - x_{3} \\sin{\\left(ey \\right)} \\cos{\\left(ex \\right)} & x_{1} \\left(\\sin{\\left(ex \\right)} \\cos{\\left(ez \\right)} + \\sin{\\left(ey \\right)} \\sin{\\left(ez \\right)} \\cos{\\left(ex \\right)}\\right) + x_{2} \\left(- \\sin{\\left(ex \\right)} \\sin{\\left(ez \\right)} + \\sin{\\left(ey \\right)} \\cos{\\left(ex \\right)} \\cos{\\left(ez \\right)}\\right)\\end{matrix}\\right]$"
      ],
      "text/plain": [
       "⎡1  0  0                                                            0                                                                         -x₁⋅sin(ey)⋅cos(ez) + x₂⋅sin(ey)⋅sin(ez) + x₃⋅cos(ey)       \n",
       "⎢                                                                                                                                                                                                         \n",
       "⎢0  1  0  x₁⋅(-sin(ex)⋅sin(ez) + sin(ey)⋅cos(ex)⋅cos(ez)) + x₂⋅(-sin(ex)⋅cos(ez) - sin(ey)⋅sin(ez)⋅cos(ex)) - x₃⋅cos(ex)⋅cos(ey)  x₁⋅sin(ex)⋅cos(ey)⋅cos(ez) - x₂⋅sin(ex)⋅sin(ez)⋅cos(ey) + x₃⋅sin(ex)⋅sin\n",
       "⎢                                                                                                                                                                                                         \n",
       "⎣0  0  1  x₁⋅(sin(ex)⋅sin(ey)⋅cos(ez) + sin(ez)⋅cos(ex)) + x₂⋅(-sin(ex)⋅sin(ey)⋅sin(ez) + cos(ex)⋅cos(ez)) - x₃⋅sin(ex)⋅cos(ey)   -x₁⋅cos(ex)⋅cos(ey)⋅cos(ez) + x₂⋅sin(ez)⋅cos(ex)⋅cos(ey) - x₃⋅sin(ey)⋅co\n",
       "\n",
       "                                   -x₁⋅sin(ez)⋅cos(ey) - x₂⋅cos(ey)⋅cos(ez)                             ⎤\n",
       "                                                                                                        ⎥\n",
       "(ey)   x₁⋅(-sin(ex)⋅sin(ey)⋅sin(ez) + cos(ex)⋅cos(ez)) + x₂⋅(-sin(ex)⋅sin(ey)⋅cos(ez) - sin(ez)⋅cos(ex))⎥\n",
       "                                                                                                        ⎥\n",
       "s(ex)  x₁⋅(sin(ex)⋅cos(ez) + sin(ey)⋅sin(ez)⋅cos(ex)) + x₂⋅(-sin(ex)⋅sin(ez) + sin(ey)⋅cos(ex)⋅cos(ez)) ⎦"
      ]
     },
     "execution_count": 17,
     "metadata": {},
     "output_type": "execute_result"
    }
   ],
   "source": [
    "J = sp.zeros(3, 6)\n",
    "for r in range(3):\n",
    "    for c in range(6):\n",
    "        J[r, c] = Tpx[r, 0].diff(p[c, 0])\n",
    "print(\"Jacobian: \", J.shape)\n",
    "J"
   ]
  },
  {
   "cell_type": "code",
   "execution_count": 18,
   "id": "2983ca3f-56c0-4d69-9ce8-87fcfcc84b10",
   "metadata": {},
   "outputs": [
    {
     "data": {
      "text/latex": [
       "$\\displaystyle \\left[\\begin{matrix}1 & 0 & 0 & 0 & c_{y} x_{3} - c_{z} s_{y} x_{1} + s_{y} s_{z} x_{2} & - c_{y} c_{z} x_{2} - c_{y} s_{z} x_{1}\\\\0 & 1 & 0 & - c_{x} c_{y} x_{3} + x_{1} \\left(c_{x} c_{z} s_{y} - s_{x} s_{z}\\right) + x_{2} \\left(- c_{x} s_{y} s_{z} - c_{z} s_{x}\\right) & c_{y} c_{z} s_{x} x_{1} - c_{y} s_{x} s_{z} x_{2} + s_{x} s_{y} x_{3} & x_{1} \\left(c_{x} c_{z} - s_{x} s_{y} s_{z}\\right) + x_{2} \\left(- c_{x} s_{z} - c_{z} s_{x} s_{y}\\right)\\\\0 & 0 & 1 & - c_{y} s_{x} x_{3} + x_{1} \\left(c_{x} s_{z} + c_{z} s_{x} s_{y}\\right) + x_{2} \\left(c_{x} c_{z} - s_{x} s_{y} s_{z}\\right) & - c_{x} c_{y} c_{z} x_{1} + c_{x} c_{y} s_{z} x_{2} - c_{x} s_{y} x_{3} & x_{1} \\left(c_{x} s_{y} s_{z} + c_{z} s_{x}\\right) + x_{2} \\left(c_{x} c_{z} s_{y} - s_{x} s_{z}\\right)\\end{matrix}\\right]$"
      ],
      "text/plain": [
       "⎡1  0  0                                  0                                       c_y⋅x₃ - c_z⋅s_y⋅x₁ + s_y⋅s_z⋅x₂                     -c_y⋅c_z⋅x₂ - c_y⋅s_z⋅x₁              ⎤\n",
       "⎢                                                                                                                                                                            ⎥\n",
       "⎢0  1  0  -cₓ⋅c_y⋅x₃ + x₁⋅(cₓ⋅c_z⋅s_y - sₓ⋅s_z) + x₂⋅(-cₓ⋅s_y⋅s_z - c_z⋅sₓ)  c_y⋅c_z⋅sₓ⋅x₁ - c_y⋅sₓ⋅s_z⋅x₂ + sₓ⋅s_y⋅x₃   x₁⋅(cₓ⋅c_z - sₓ⋅s_y⋅s_z) + x₂⋅(-cₓ⋅s_z - c_z⋅sₓ⋅s_y)⎥\n",
       "⎢                                                                                                                                                                            ⎥\n",
       "⎣0  0  1  -c_y⋅sₓ⋅x₃ + x₁⋅(cₓ⋅s_z + c_z⋅sₓ⋅s_y) + x₂⋅(cₓ⋅c_z - sₓ⋅s_y⋅s_z)   -cₓ⋅c_y⋅c_z⋅x₁ + cₓ⋅c_y⋅s_z⋅x₂ - cₓ⋅s_y⋅x₃  x₁⋅(cₓ⋅s_y⋅s_z + c_z⋅sₓ) + x₂⋅(cₓ⋅c_z⋅s_y - sₓ⋅s_z) ⎦"
      ]
     },
     "execution_count": 18,
     "metadata": {},
     "output_type": "execute_result"
    }
   ],
   "source": [
    "simplify_sincos(J, latex=True)"
   ]
  },
  {
   "cell_type": "code",
   "execution_count": 19,
   "id": "6ee8ed16-c464-43a5-8890-7152076563f6",
   "metadata": {},
   "outputs": [
    {
     "name": "stdout",
     "output_type": "stream",
     "text": [
      "Hessian:  (18, 6)\n"
     ]
    },
    {
     "data": {
      "text/latex": [
       "$\\displaystyle \\left[\\begin{matrix}0 & 0 & 0 & 0 & 0 & 0\\\\0 & 0 & 0 & 0 & 0 & 0\\\\0 & 0 & 0 & 0 & 0 & 0\\\\0 & 0 & 0 & 0 & 0 & 0\\\\0 & 0 & 0 & 0 & 0 & 0\\\\0 & 0 & 0 & 0 & 0 & 0\\\\0 & 0 & 0 & 0 & 0 & 0\\\\0 & 0 & 0 & 0 & 0 & 0\\\\0 & 0 & 0 & 0 & 0 & 0\\\\0 & 0 & 0 & 0 & 0 & 0\\\\0 & 0 & 0 & x_{1} \\left(- \\sin{\\left(ex \\right)} \\sin{\\left(ey \\right)} \\cos{\\left(ez \\right)} - \\sin{\\left(ez \\right)} \\cos{\\left(ex \\right)}\\right) + x_{2} \\left(\\sin{\\left(ex \\right)} \\sin{\\left(ey \\right)} \\sin{\\left(ez \\right)} - \\cos{\\left(ex \\right)} \\cos{\\left(ez \\right)}\\right) + x_{3} \\sin{\\left(ex \\right)} \\cos{\\left(ey \\right)} & x_{1} \\cos{\\left(ex \\right)} \\cos{\\left(ey \\right)} \\cos{\\left(ez \\right)} - x_{2} \\sin{\\left(ez \\right)} \\cos{\\left(ex \\right)} \\cos{\\left(ey \\right)} + x_{3} \\sin{\\left(ey \\right)} \\cos{\\left(ex \\right)} & x_{1} \\left(- \\sin{\\left(ex \\right)} \\cos{\\left(ez \\right)} - \\sin{\\left(ey \\right)} \\sin{\\left(ez \\right)} \\cos{\\left(ex \\right)}\\right) + x_{2} \\left(\\sin{\\left(ex \\right)} \\sin{\\left(ez \\right)} - \\sin{\\left(ey \\right)} \\cos{\\left(ex \\right)} \\cos{\\left(ez \\right)}\\right)\\\\0 & 0 & 0 & x_{1} \\left(- \\sin{\\left(ex \\right)} \\sin{\\left(ez \\right)} + \\sin{\\left(ey \\right)} \\cos{\\left(ex \\right)} \\cos{\\left(ez \\right)}\\right) + x_{2} \\left(- \\sin{\\left(ex \\right)} \\cos{\\left(ez \\right)} - \\sin{\\left(ey \\right)} \\sin{\\left(ez \\right)} \\cos{\\left(ex \\right)}\\right) - x_{3} \\cos{\\left(ex \\right)} \\cos{\\left(ey \\right)} & x_{1} \\sin{\\left(ex \\right)} \\cos{\\left(ey \\right)} \\cos{\\left(ez \\right)} - x_{2} \\sin{\\left(ex \\right)} \\sin{\\left(ez \\right)} \\cos{\\left(ey \\right)} + x_{3} \\sin{\\left(ex \\right)} \\sin{\\left(ey \\right)} & x_{1} \\left(- \\sin{\\left(ex \\right)} \\sin{\\left(ey \\right)} \\sin{\\left(ez \\right)} + \\cos{\\left(ex \\right)} \\cos{\\left(ez \\right)}\\right) + x_{2} \\left(- \\sin{\\left(ex \\right)} \\sin{\\left(ey \\right)} \\cos{\\left(ez \\right)} - \\sin{\\left(ez \\right)} \\cos{\\left(ex \\right)}\\right)\\\\0 & 0 & 0 & 0 & - x_{1} \\cos{\\left(ey \\right)} \\cos{\\left(ez \\right)} + x_{2} \\sin{\\left(ez \\right)} \\cos{\\left(ey \\right)} - x_{3} \\sin{\\left(ey \\right)} & x_{1} \\sin{\\left(ey \\right)} \\sin{\\left(ez \\right)} + x_{2} \\sin{\\left(ey \\right)} \\cos{\\left(ez \\right)}\\\\0 & 0 & 0 & x_{1} \\cos{\\left(ex \\right)} \\cos{\\left(ey \\right)} \\cos{\\left(ez \\right)} - x_{2} \\sin{\\left(ez \\right)} \\cos{\\left(ex \\right)} \\cos{\\left(ey \\right)} + x_{3} \\sin{\\left(ey \\right)} \\cos{\\left(ex \\right)} & - x_{1} \\sin{\\left(ex \\right)} \\sin{\\left(ey \\right)} \\cos{\\left(ez \\right)} + x_{2} \\sin{\\left(ex \\right)} \\sin{\\left(ey \\right)} \\sin{\\left(ez \\right)} + x_{3} \\sin{\\left(ex \\right)} \\cos{\\left(ey \\right)} & - x_{1} \\sin{\\left(ex \\right)} \\sin{\\left(ez \\right)} \\cos{\\left(ey \\right)} - x_{2} \\sin{\\left(ex \\right)} \\cos{\\left(ey \\right)} \\cos{\\left(ez \\right)}\\\\0 & 0 & 0 & x_{1} \\sin{\\left(ex \\right)} \\cos{\\left(ey \\right)} \\cos{\\left(ez \\right)} - x_{2} \\sin{\\left(ex \\right)} \\sin{\\left(ez \\right)} \\cos{\\left(ey \\right)} + x_{3} \\sin{\\left(ex \\right)} \\sin{\\left(ey \\right)} & x_{1} \\sin{\\left(ey \\right)} \\cos{\\left(ex \\right)} \\cos{\\left(ez \\right)} - x_{2} \\sin{\\left(ey \\right)} \\sin{\\left(ez \\right)} \\cos{\\left(ex \\right)} - x_{3} \\cos{\\left(ex \\right)} \\cos{\\left(ey \\right)} & x_{1} \\sin{\\left(ez \\right)} \\cos{\\left(ex \\right)} \\cos{\\left(ey \\right)} + x_{2} \\cos{\\left(ex \\right)} \\cos{\\left(ey \\right)} \\cos{\\left(ez \\right)}\\\\0 & 0 & 0 & 0 & x_{1} \\sin{\\left(ey \\right)} \\sin{\\left(ez \\right)} + x_{2} \\sin{\\left(ey \\right)} \\cos{\\left(ez \\right)} & - x_{1} \\cos{\\left(ey \\right)} \\cos{\\left(ez \\right)} + x_{2} \\sin{\\left(ez \\right)} \\cos{\\left(ey \\right)}\\\\0 & 0 & 0 & x_{1} \\left(- \\sin{\\left(ex \\right)} \\cos{\\left(ez \\right)} - \\sin{\\left(ey \\right)} \\sin{\\left(ez \\right)} \\cos{\\left(ex \\right)}\\right) + x_{2} \\left(\\sin{\\left(ex \\right)} \\sin{\\left(ez \\right)} - \\sin{\\left(ey \\right)} \\cos{\\left(ex \\right)} \\cos{\\left(ez \\right)}\\right) & - x_{1} \\sin{\\left(ex \\right)} \\sin{\\left(ez \\right)} \\cos{\\left(ey \\right)} - x_{2} \\sin{\\left(ex \\right)} \\cos{\\left(ey \\right)} \\cos{\\left(ez \\right)} & x_{1} \\left(- \\sin{\\left(ex \\right)} \\sin{\\left(ey \\right)} \\cos{\\left(ez \\right)} - \\sin{\\left(ez \\right)} \\cos{\\left(ex \\right)}\\right) + x_{2} \\left(\\sin{\\left(ex \\right)} \\sin{\\left(ey \\right)} \\sin{\\left(ez \\right)} - \\cos{\\left(ex \\right)} \\cos{\\left(ez \\right)}\\right)\\\\0 & 0 & 0 & x_{1} \\left(- \\sin{\\left(ex \\right)} \\sin{\\left(ey \\right)} \\sin{\\left(ez \\right)} + \\cos{\\left(ex \\right)} \\cos{\\left(ez \\right)}\\right) + x_{2} \\left(- \\sin{\\left(ex \\right)} \\sin{\\left(ey \\right)} \\cos{\\left(ez \\right)} - \\sin{\\left(ez \\right)} \\cos{\\left(ex \\right)}\\right) & x_{1} \\sin{\\left(ez \\right)} \\cos{\\left(ex \\right)} \\cos{\\left(ey \\right)} + x_{2} \\cos{\\left(ex \\right)} \\cos{\\left(ey \\right)} \\cos{\\left(ez \\right)} & x_{1} \\left(- \\sin{\\left(ex \\right)} \\sin{\\left(ez \\right)} + \\sin{\\left(ey \\right)} \\cos{\\left(ex \\right)} \\cos{\\left(ez \\right)}\\right) + x_{2} \\left(- \\sin{\\left(ex \\right)} \\cos{\\left(ez \\right)} - \\sin{\\left(ey \\right)} \\sin{\\left(ez \\right)} \\cos{\\left(ex \\right)}\\right)\\end{matrix}\\right]$"
      ],
      "text/plain": [
       "⎡0  0  0                                                            0                                                                                                   0                                 \n",
       "⎢                                                                                                                                                                                                         \n",
       "⎢0  0  0                                                            0                                                                                                   0                                 \n",
       "⎢                                                                                                                                                                                                         \n",
       "⎢0  0  0                                                            0                                                                                                   0                                 \n",
       "⎢                                                                                                                                                                                                         \n",
       "⎢0  0  0                                                            0                                                                                                   0                                 \n",
       "⎢                                                                                                                                                                                                         \n",
       "⎢0  0  0                                                            0                                                                                                   0                                 \n",
       "⎢                                                                                                                                                                                                         \n",
       "⎢0  0  0                                                            0                                                                                                   0                                 \n",
       "⎢                                                                                                                                                                                                         \n",
       "⎢0  0  0                                                            0                                                                                                   0                                 \n",
       "⎢                                                                                                                                                                                                         \n",
       "⎢0  0  0                                                            0                                                                                                   0                                 \n",
       "⎢                                                                                                                                                                                                         \n",
       "⎢0  0  0                                                            0                                                                                                   0                                 \n",
       "⎢                                                                                                                                                                                                         \n",
       "⎢0  0  0                                                            0                                                                                                   0                                 \n",
       "⎢                                                                                                                                                                                                         \n",
       "⎢0  0  0  x₁⋅(-sin(ex)⋅sin(ey)⋅cos(ez) - sin(ez)⋅cos(ex)) + x₂⋅(sin(ex)⋅sin(ey)⋅sin(ez) - cos(ex)⋅cos(ez)) + x₃⋅sin(ex)⋅cos(ey)   x₁⋅cos(ex)⋅cos(ey)⋅cos(ez) - x₂⋅sin(ez)⋅cos(ex)⋅cos(ey) + x₃⋅sin(ey)⋅cos\n",
       "⎢                                                                                                                                                                                                         \n",
       "⎢0  0  0  x₁⋅(-sin(ex)⋅sin(ez) + sin(ey)⋅cos(ex)⋅cos(ez)) + x₂⋅(-sin(ex)⋅cos(ez) - sin(ey)⋅sin(ez)⋅cos(ex)) - x₃⋅cos(ex)⋅cos(ey)  x₁⋅sin(ex)⋅cos(ey)⋅cos(ez) - x₂⋅sin(ex)⋅sin(ez)⋅cos(ey) + x₃⋅sin(ex)⋅sin\n",
       "⎢                                                                                                                                                                                                         \n",
       "⎢0  0  0                                                            0                                                                         -x₁⋅cos(ey)⋅cos(ez) + x₂⋅sin(ez)⋅cos(ey) - x₃⋅sin(ey)       \n",
       "⎢                                                                                                                                                                                                         \n",
       "⎢0  0  0                       x₁⋅cos(ex)⋅cos(ey)⋅cos(ez) - x₂⋅sin(ez)⋅cos(ex)⋅cos(ey) + x₃⋅sin(ey)⋅cos(ex)                       -x₁⋅sin(ex)⋅sin(ey)⋅cos(ez) + x₂⋅sin(ex)⋅sin(ey)⋅sin(ez) + x₃⋅sin(ex)⋅co\n",
       "⎢                                                                                                                                                                                                         \n",
       "⎢0  0  0                       x₁⋅sin(ex)⋅cos(ey)⋅cos(ez) - x₂⋅sin(ex)⋅sin(ez)⋅cos(ey) + x₃⋅sin(ex)⋅sin(ey)                       x₁⋅sin(ey)⋅cos(ex)⋅cos(ez) - x₂⋅sin(ey)⋅sin(ez)⋅cos(ex) - x₃⋅cos(ex)⋅cos\n",
       "⎢                                                                                                                                                                                                         \n",
       "⎢0  0  0                                                            0                                                                                x₁⋅sin(ey)⋅sin(ez) + x₂⋅sin(ey)⋅cos(ez)              \n",
       "⎢                                                                                                                                                                                                         \n",
       "⎢0  0  0             x₁⋅(-sin(ex)⋅cos(ez) - sin(ey)⋅sin(ez)⋅cos(ex)) + x₂⋅(sin(ex)⋅sin(ez) - sin(ey)⋅cos(ex)⋅cos(ez))                       -x₁⋅sin(ex)⋅sin(ez)⋅cos(ey) - x₂⋅sin(ex)⋅cos(ey)⋅cos(ez)      \n",
       "⎢                                                                                                                                                                                                         \n",
       "⎣0  0  0            x₁⋅(-sin(ex)⋅sin(ey)⋅sin(ez) + cos(ex)⋅cos(ez)) + x₂⋅(-sin(ex)⋅sin(ey)⋅cos(ez) - sin(ez)⋅cos(ex))                        x₁⋅sin(ez)⋅cos(ex)⋅cos(ey) + x₂⋅cos(ex)⋅cos(ey)⋅cos(ez)      \n",
       "\n",
       "                                                       0                                                ⎤\n",
       "                                                                                                        ⎥\n",
       "                                                       0                                                ⎥\n",
       "                                                                                                        ⎥\n",
       "                                                       0                                                ⎥\n",
       "                                                                                                        ⎥\n",
       "                                                       0                                                ⎥\n",
       "                                                                                                        ⎥\n",
       "                                                       0                                                ⎥\n",
       "                                                                                                        ⎥\n",
       "                                                       0                                                ⎥\n",
       "                                                                                                        ⎥\n",
       "                                                       0                                                ⎥\n",
       "                                                                                                        ⎥\n",
       "                                                       0                                                ⎥\n",
       "                                                                                                        ⎥\n",
       "                                                       0                                                ⎥\n",
       "                                                                                                        ⎥\n",
       "                                                       0                                                ⎥\n",
       "                                                                                                        ⎥\n",
       "(ex)   x₁⋅(-sin(ex)⋅cos(ez) - sin(ey)⋅sin(ez)⋅cos(ex)) + x₂⋅(sin(ex)⋅sin(ez) - sin(ey)⋅cos(ex)⋅cos(ez)) ⎥\n",
       "                                                                                                        ⎥\n",
       "(ey)   x₁⋅(-sin(ex)⋅sin(ey)⋅sin(ez) + cos(ex)⋅cos(ez)) + x₂⋅(-sin(ex)⋅sin(ey)⋅cos(ez) - sin(ez)⋅cos(ex))⎥\n",
       "                                                                                                        ⎥\n",
       "                                    x₁⋅sin(ey)⋅sin(ez) + x₂⋅sin(ey)⋅cos(ez)                             ⎥\n",
       "                                                                                                        ⎥\n",
       "s(ey)                      -x₁⋅sin(ex)⋅sin(ez)⋅cos(ey) - x₂⋅sin(ex)⋅cos(ey)⋅cos(ez)                     ⎥\n",
       "                                                                                                        ⎥\n",
       "(ey)                        x₁⋅sin(ez)⋅cos(ex)⋅cos(ey) + x₂⋅cos(ex)⋅cos(ey)⋅cos(ez)                     ⎥\n",
       "                                                                                                        ⎥\n",
       "                                   -x₁⋅cos(ey)⋅cos(ez) + x₂⋅sin(ez)⋅cos(ey)                             ⎥\n",
       "                                                                                                        ⎥\n",
       "       x₁⋅(-sin(ex)⋅sin(ey)⋅cos(ez) - sin(ez)⋅cos(ex)) + x₂⋅(sin(ex)⋅sin(ey)⋅sin(ez) - cos(ex)⋅cos(ez)) ⎥\n",
       "                                                                                                        ⎥\n",
       "       x₁⋅(-sin(ex)⋅sin(ez) + sin(ey)⋅cos(ex)⋅cos(ez)) + x₂⋅(-sin(ex)⋅cos(ez) - sin(ey)⋅sin(ez)⋅cos(ex))⎦"
      ]
     },
     "execution_count": 19,
     "metadata": {},
     "output_type": "execute_result"
    }
   ],
   "source": [
    "H = sp.zeros(18, 6)\n",
    "for i in range(3):\n",
    "    for j in range(6):\n",
    "        for pi in range(6):\n",
    "            H[pi*3+i, j] = J[i, j].diff(p[pi, 0])\n",
    "print(\"Hessian: \", H.shape)\n",
    "H"
   ]
  },
  {
   "cell_type": "code",
   "execution_count": 20,
   "id": "2caed6da-e515-4e62-b1df-92865fbf8dd0",
   "metadata": {},
   "outputs": [
    {
     "data": {
      "text/latex": [
       "$\\displaystyle \\left[\\begin{matrix}0 & 0 & 0 & 0 & 0 & 0\\\\0 & 0 & 0 & 0 & 0 & 0\\\\0 & 0 & 0 & 0 & 0 & 0\\\\0 & 0 & 0 & 0 & 0 & 0\\\\0 & 0 & 0 & 0 & 0 & 0\\\\0 & 0 & 0 & 0 & 0 & 0\\\\0 & 0 & 0 & 0 & 0 & 0\\\\0 & 0 & 0 & 0 & 0 & 0\\\\0 & 0 & 0 & 0 & 0 & 0\\\\0 & 0 & 0 & 0 & 0 & 0\\\\0 & 0 & 0 & c_{y} s_{x} x_{3} + x_{1} \\left(- c_{x} s_{z} - c_{z} s_{x} s_{y}\\right) + x_{2} \\left(- c_{x} c_{z} + s_{x} s_{y} s_{z}\\right) & c_{x} c_{y} c_{z} x_{1} - c_{x} c_{y} s_{z} x_{2} + c_{x} s_{y} x_{3} & x_{1} \\left(- c_{x} s_{y} s_{z} - c_{z} s_{x}\\right) + x_{2} \\left(- c_{x} c_{z} s_{y} + s_{x} s_{z}\\right)\\\\0 & 0 & 0 & - c_{x} c_{y} x_{3} + x_{1} \\left(c_{x} c_{z} s_{y} - s_{x} s_{z}\\right) + x_{2} \\left(- c_{x} s_{y} s_{z} - c_{z} s_{x}\\right) & c_{y} c_{z} s_{x} x_{1} - c_{y} s_{x} s_{z} x_{2} + s_{x} s_{y} x_{3} & x_{1} \\left(c_{x} c_{z} - s_{x} s_{y} s_{z}\\right) + x_{2} \\left(- c_{x} s_{z} - c_{z} s_{x} s_{y}\\right)\\\\0 & 0 & 0 & 0 & - c_{y} c_{z} x_{1} + c_{y} s_{z} x_{2} - s_{y} x_{3} & c_{z} s_{y} x_{2} + s_{y} s_{z} x_{1}\\\\0 & 0 & 0 & c_{x} c_{y} c_{z} x_{1} - c_{x} c_{y} s_{z} x_{2} + c_{x} s_{y} x_{3} & c_{y} s_{x} x_{3} - c_{z} s_{x} s_{y} x_{1} + s_{x} s_{y} s_{z} x_{2} & - c_{y} c_{z} s_{x} x_{2} - c_{y} s_{x} s_{z} x_{1}\\\\0 & 0 & 0 & c_{y} c_{z} s_{x} x_{1} - c_{y} s_{x} s_{z} x_{2} + s_{x} s_{y} x_{3} & - c_{x} c_{y} x_{3} + c_{x} c_{z} s_{y} x_{1} - c_{x} s_{y} s_{z} x_{2} & c_{x} c_{y} c_{z} x_{2} + c_{x} c_{y} s_{z} x_{1}\\\\0 & 0 & 0 & 0 & c_{z} s_{y} x_{2} + s_{y} s_{z} x_{1} & - c_{y} c_{z} x_{1} + c_{y} s_{z} x_{2}\\\\0 & 0 & 0 & x_{1} \\left(- c_{x} s_{y} s_{z} - c_{z} s_{x}\\right) + x_{2} \\left(- c_{x} c_{z} s_{y} + s_{x} s_{z}\\right) & - c_{y} c_{z} s_{x} x_{2} - c_{y} s_{x} s_{z} x_{1} & x_{1} \\left(- c_{x} s_{z} - c_{z} s_{x} s_{y}\\right) + x_{2} \\left(- c_{x} c_{z} + s_{x} s_{y} s_{z}\\right)\\\\0 & 0 & 0 & x_{1} \\left(c_{x} c_{z} - s_{x} s_{y} s_{z}\\right) + x_{2} \\left(- c_{x} s_{z} - c_{z} s_{x} s_{y}\\right) & c_{x} c_{y} c_{z} x_{2} + c_{x} c_{y} s_{z} x_{1} & x_{1} \\left(c_{x} c_{z} s_{y} - s_{x} s_{z}\\right) + x_{2} \\left(- c_{x} s_{y} s_{z} - c_{z} s_{x}\\right)\\end{matrix}\\right]$"
      ],
      "text/plain": [
       "⎡0  0  0                                  0                                                      0                                                 0                          ⎤\n",
       "⎢                                                                                                                                                                             ⎥\n",
       "⎢0  0  0                                  0                                                      0                                                 0                          ⎥\n",
       "⎢                                                                                                                                                                             ⎥\n",
       "⎢0  0  0                                  0                                                      0                                                 0                          ⎥\n",
       "⎢                                                                                                                                                                             ⎥\n",
       "⎢0  0  0                                  0                                                      0                                                 0                          ⎥\n",
       "⎢                                                                                                                                                                             ⎥\n",
       "⎢0  0  0                                  0                                                      0                                                 0                          ⎥\n",
       "⎢                                                                                                                                                                             ⎥\n",
       "⎢0  0  0                                  0                                                      0                                                 0                          ⎥\n",
       "⎢                                                                                                                                                                             ⎥\n",
       "⎢0  0  0                                  0                                                      0                                                 0                          ⎥\n",
       "⎢                                                                                                                                                                             ⎥\n",
       "⎢0  0  0                                  0                                                      0                                                 0                          ⎥\n",
       "⎢                                                                                                                                                                             ⎥\n",
       "⎢0  0  0                                  0                                                      0                                                 0                          ⎥\n",
       "⎢                                                                                                                                                                             ⎥\n",
       "⎢0  0  0                                  0                                                      0                                                 0                          ⎥\n",
       "⎢                                                                                                                                                                             ⎥\n",
       "⎢0  0  0  c_y⋅sₓ⋅x₃ + x₁⋅(-cₓ⋅s_z - c_z⋅sₓ⋅s_y) + x₂⋅(-cₓ⋅c_z + sₓ⋅s_y⋅s_z)  cₓ⋅c_y⋅c_z⋅x₁ - cₓ⋅c_y⋅s_z⋅x₂ + cₓ⋅s_y⋅x₃   x₁⋅(-cₓ⋅s_y⋅s_z - c_z⋅sₓ) + x₂⋅(-cₓ⋅c_z⋅s_y + sₓ⋅s_z)⎥\n",
       "⎢                                                                                                                                                                             ⎥\n",
       "⎢0  0  0  -cₓ⋅c_y⋅x₃ + x₁⋅(cₓ⋅c_z⋅s_y - sₓ⋅s_z) + x₂⋅(-cₓ⋅s_y⋅s_z - c_z⋅sₓ)  c_y⋅c_z⋅sₓ⋅x₁ - c_y⋅sₓ⋅s_z⋅x₂ + sₓ⋅s_y⋅x₃   x₁⋅(cₓ⋅c_z - sₓ⋅s_y⋅s_z) + x₂⋅(-cₓ⋅s_z - c_z⋅sₓ⋅s_y) ⎥\n",
       "⎢                                                                                                                                                                             ⎥\n",
       "⎢0  0  0                                  0                                      -c_y⋅c_z⋅x₁ + c_y⋅s_z⋅x₂ - s_y⋅x₃                      c_z⋅s_y⋅x₂ + s_y⋅s_z⋅x₁               ⎥\n",
       "⎢                                                                                                                                                                             ⎥\n",
       "⎢0  0  0              cₓ⋅c_y⋅c_z⋅x₁ - cₓ⋅c_y⋅s_z⋅x₂ + cₓ⋅s_y⋅x₃              c_y⋅sₓ⋅x₃ - c_z⋅sₓ⋅s_y⋅x₁ + sₓ⋅s_y⋅s_z⋅x₂              -c_y⋅c_z⋅sₓ⋅x₂ - c_y⋅sₓ⋅s_z⋅x₁            ⎥\n",
       "⎢                                                                                                                                                                             ⎥\n",
       "⎢0  0  0              c_y⋅c_z⋅sₓ⋅x₁ - c_y⋅sₓ⋅s_z⋅x₂ + sₓ⋅s_y⋅x₃              -cₓ⋅c_y⋅x₃ + cₓ⋅c_z⋅s_y⋅x₁ - cₓ⋅s_y⋅s_z⋅x₂              cₓ⋅c_y⋅c_z⋅x₂ + cₓ⋅c_y⋅s_z⋅x₁            ⎥\n",
       "⎢                                                                                                                                                                             ⎥\n",
       "⎢0  0  0                                  0                                           c_z⋅s_y⋅x₂ + s_y⋅s_z⋅x₁                          -c_y⋅c_z⋅x₁ + c_y⋅s_z⋅x₂               ⎥\n",
       "⎢                                                                                                                                                                             ⎥\n",
       "⎢0  0  0        x₁⋅(-cₓ⋅s_y⋅s_z - c_z⋅sₓ) + x₂⋅(-cₓ⋅c_z⋅s_y + sₓ⋅s_z)              -c_y⋅c_z⋅sₓ⋅x₂ - c_y⋅sₓ⋅s_z⋅x₁        x₁⋅(-cₓ⋅s_z - c_z⋅sₓ⋅s_y) + x₂⋅(-cₓ⋅c_z + sₓ⋅s_y⋅s_z)⎥\n",
       "⎢                                                                                                                                                                             ⎥\n",
       "⎣0  0  0        x₁⋅(cₓ⋅c_z - sₓ⋅s_y⋅s_z) + x₂⋅(-cₓ⋅s_z - c_z⋅sₓ⋅s_y)               cₓ⋅c_y⋅c_z⋅x₂ + cₓ⋅c_y⋅s_z⋅x₁         x₁⋅(cₓ⋅c_z⋅s_y - sₓ⋅s_z) + x₂⋅(-cₓ⋅s_y⋅s_z - c_z⋅sₓ) ⎦"
      ]
     },
     "execution_count": 20,
     "metadata": {},
     "output_type": "execute_result"
    }
   ],
   "source": [
    "simplify_sincos(H, latex=True)"
   ]
  },
  {
   "cell_type": "code",
   "execution_count": null,
   "id": "665e95b3-0cd3-4151-a82d-e6baf3f2cd74",
   "metadata": {},
   "outputs": [],
   "source": []
  }
 ],
 "metadata": {
  "kernelspec": {
   "display_name": "Python 3 (ipykernel)",
   "language": "python",
   "name": "python3"
  },
  "language_info": {
   "codemirror_mode": {
    "name": "ipython",
    "version": 3
   },
   "file_extension": ".py",
   "mimetype": "text/x-python",
   "name": "python",
   "nbconvert_exporter": "python",
   "pygments_lexer": "ipython3",
   "version": "3.7.4"
  }
 },
 "nbformat": 4,
 "nbformat_minor": 5
}
